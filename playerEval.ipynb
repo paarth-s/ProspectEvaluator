{
 "cells": [
  {
   "cell_type": "code",
   "execution_count": 2,
   "id": "b84e270c",
   "metadata": {},
   "outputs": [],
   "source": [
    "import pandas as pd\n",
    "import numpy as np\n",
    "import sklearn"
   ]
  },
  {
   "cell_type": "code",
   "execution_count": 12,
   "id": "a325483e",
   "metadata": {},
   "outputs": [],
   "source": [
    "rookies = pd.read_csv('rookies-wrc.csv')\n",
    "milb = pd.read_csv('minorswrcplus.csv')"
   ]
  },
  {
   "cell_type": "code",
   "execution_count": 13,
   "id": "56ba429b",
   "metadata": {},
   "outputs": [
    {
     "data": {
      "text/plain": [
       "Index(['Season', 'Name', 'Team', 'Level', 'Age', 'PA', 'BB%', 'K%', 'BB/K',\n",
       "       'AVG', 'OBP', 'SLG', 'OPS', 'ISO', 'Spd', 'BABIP', 'wSB', 'wRC', 'wRAA',\n",
       "       'wOBA', 'wRC+', 'PlayerId'],\n",
       "      dtype='object')"
      ]
     },
     "execution_count": 13,
     "metadata": {},
     "output_type": "execute_result"
    }
   ],
   "source": [
    "milb.columns"
   ]
  },
  {
   "cell_type": "code",
   "execution_count": null,
   "id": "a0c6bd8f",
   "metadata": {},
   "outputs": [],
   "source": []
  },
  {
   "cell_type": "code",
   "execution_count": null,
   "id": "97c6b19d",
   "metadata": {},
   "outputs": [],
   "source": []
  }
 ],
 "metadata": {
  "kernelspec": {
   "display_name": "Python 3 (ipykernel)",
   "language": "python",
   "name": "python3"
  },
  "language_info": {
   "codemirror_mode": {
    "name": "ipython",
    "version": 3
   },
   "file_extension": ".py",
   "mimetype": "text/x-python",
   "name": "python",
   "nbconvert_exporter": "python",
   "pygments_lexer": "ipython3",
   "version": "3.10.9"
  }
 },
 "nbformat": 4,
 "nbformat_minor": 5
}
